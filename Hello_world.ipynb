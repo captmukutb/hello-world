{
  "nbformat": 4,
  "nbformat_minor": 0,
  "metadata": {
    "colab": {
      "name": "Hello_world.ipynb",
      "provenance": [],
      "collapsed_sections": [],
      "include_colab_link": true
    },
    "kernelspec": {
      "name": "python3",
      "display_name": "Python 3"
    }
  },
  "cells": [
    {
      "cell_type": "markdown",
      "metadata": {
        "id": "view-in-github",
        "colab_type": "text"
      },
      "source": [
        "<a href=\"https://colab.research.google.com/github/captmukutb/hello-world/blob/main/Hello_world.ipynb\" target=\"_parent\"><img src=\"https://colab.research.google.com/assets/colab-badge.svg\" alt=\"Open In Colab\"/></a>"
      ]
    },
    {
      "cell_type": "markdown",
      "metadata": {
        "id": "Y3Sy6nWsX1KA"
      },
      "source": [
        "# Sum of numbers\n",
        "\n",
        "-"
      ]
    },
    {
      "cell_type": "code",
      "metadata": {
        "colab": {
          "base_uri": "https://localhost:8080/"
        },
        "id": "QHr1_K5HTHrT",
        "outputId": "6e46c983-5d43-4b11-ddfd-68ceacfd347e"
      },
      "source": [
        "mysum=0\n",
        "i=0\n",
        "\n",
        "while i <= 4:\n",
        "  mysum += i\n",
        "  i += 1\n",
        "print(mysum)"
      ],
      "execution_count": null,
      "outputs": [
        {
          "output_type": "stream",
          "text": [
            "10\n"
          ],
          "name": "stdout"
        }
      ]
    },
    {
      "cell_type": "code",
      "metadata": {
        "colab": {
          "base_uri": "https://localhost:8080/"
        },
        "id": "Sq8HvISVS5br",
        "outputId": "f347c3d8-145a-4d75-f06d-b8216def5838"
      },
      "source": [
        "mysum=0\n",
        "\n",
        "for i in range(5):\n",
        "  mysum +=i\n",
        "\n",
        "print(mysum) "
      ],
      "execution_count": null,
      "outputs": [
        {
          "output_type": "stream",
          "text": [
            "10\n"
          ],
          "name": "stdout"
        }
      ]
    },
    {
      "cell_type": "markdown",
      "metadata": {
        "id": "bkpogdBwB_Db"
      },
      "source": [
        "# For"
      ]
    },
    {
      "cell_type": "code",
      "metadata": {
        "colab": {
          "base_uri": "https://localhost:8080/"
        },
        "id": "GDMT1Bl7Be3e",
        "outputId": "a5400888-46af-4bd8-ff55-abb33e9af1b4"
      },
      "source": [
        "for i in range(2,11,2):\n",
        "  print(i)\n"
      ],
      "execution_count": null,
      "outputs": [
        {
          "output_type": "stream",
          "text": [
            "2\n",
            "4\n",
            "6\n",
            "8\n",
            "10\n"
          ],
          "name": "stdout"
        }
      ]
    },
    {
      "cell_type": "code",
      "metadata": {
        "colab": {
          "base_uri": "https://localhost:8080/"
        },
        "id": "jYVtVphpCLe8",
        "outputId": "e15f5e24-1557-40cd-985b-551113031dc2"
      },
      "source": [
        "for i in range(10,0,-2):\n",
        "  print(i)"
      ],
      "execution_count": null,
      "outputs": [
        {
          "output_type": "stream",
          "text": [
            "10\n",
            "8\n",
            "6\n",
            "4\n",
            "2\n"
          ],
          "name": "stdout"
        }
      ]
    },
    {
      "cell_type": "markdown",
      "metadata": {
        "id": "Yzp3DCzEDOhL"
      },
      "source": [
        "# While"
      ]
    },
    {
      "cell_type": "code",
      "metadata": {
        "colab": {
          "base_uri": "https://localhost:8080/"
        },
        "id": "A7-C2HlzCgpg",
        "outputId": "08e7aefb-9f12-4237-ce32-1507c60d70d9"
      },
      "source": [
        "i=0\n",
        "while i<10:\n",
        "  i +=2\n",
        "  print(i)"
      ],
      "execution_count": null,
      "outputs": [
        {
          "output_type": "stream",
          "text": [
            "2\n",
            "4\n",
            "6\n",
            "8\n",
            "10\n"
          ],
          "name": "stdout"
        }
      ]
    },
    {
      "cell_type": "code",
      "metadata": {
        "colab": {
          "base_uri": "https://localhost:8080/"
        },
        "id": "5pHi9WxsDU2a",
        "outputId": "533433d4-8740-411e-8e8c-2d7b6a099220"
      },
      "source": [
        "i=12\n",
        "while i>2:\n",
        "  i += -2\n",
        "  print(i)"
      ],
      "execution_count": null,
      "outputs": [
        {
          "output_type": "stream",
          "text": [
            "10\n",
            "8\n",
            "6\n",
            "4\n",
            "2\n"
          ],
          "name": "stdout"
        }
      ]
    },
    {
      "cell_type": "code",
      "metadata": {
        "colab": {
          "base_uri": "https://localhost:8080/"
        },
        "id": "UDvLHbmcgZHI",
        "outputId": "8700f999-0e74-4186-a5bd-8c8b1d2c60e0"
      },
      "source": [
        "iteration = 0\n",
        "count = 0\n",
        "while iteration < 5:\n",
        "  for letter in \"hello world\":\n",
        "    count +=1\n",
        "    \n",
        "\n",
        "  print(\"Itr\"+str(iteration)+\"\"+\"count is\"+ str(count))\n",
        "  iteration +=1"
      ],
      "execution_count": null,
      "outputs": [
        {
          "output_type": "stream",
          "text": [
            "Itr0count is11\n",
            "Itr1count is22\n",
            "Itr2count is33\n",
            "Itr3count is44\n",
            "Itr4count is55\n"
          ],
          "name": "stdout"
        }
      ]
    },
    {
      "cell_type": "code",
      "metadata": {
        "colab": {
          "base_uri": "https://localhost:8080/"
        },
        "id": "WhxYP_Zbiok1",
        "outputId": "2dfd4caf-5b9a-4e84-b75e-ac2bfc257e42"
      },
      "source": [
        "count=0\n",
        "phrase = \"hello world\"\n",
        "for iteration in range(5):\n",
        "  while True:\n",
        "    count += len(phrase)\n",
        "    break \n",
        "print (\"Iteration\"+ str(iteration)+ \"count\"+str(count))\n",
        "\n"
      ],
      "execution_count": null,
      "outputs": [
        {
          "output_type": "stream",
          "text": [
            "Iteration4count55\n"
          ],
          "name": "stdout"
        }
      ]
    },
    {
      "cell_type": "code",
      "metadata": {
        "colab": {
          "base_uri": "https://localhost:8080/"
        },
        "id": "sP-TUoIfYBYl",
        "outputId": "03758f85-843b-4b4a-e9f5-15512b20f8eb"
      },
      "source": [
        "for iteration in range(5):\n",
        "  count = 0\n",
        "  while True:\n",
        "    for letter in \"hello world\":\n",
        "      count += 1\n",
        "    print (\"Itreation\"+ str(iteration)+ \"count is\"+ str(count))\n",
        "    break"
      ],
      "execution_count": null,
      "outputs": [
        {
          "output_type": "stream",
          "text": [
            "Itreation0count is11\n",
            "Itreation1count is11\n",
            "Itreation2count is11\n",
            "Itreation3count is11\n",
            "Itreation4count is11\n"
          ],
          "name": "stdout"
        }
      ]
    },
    {
      "cell_type": "code",
      "metadata": {
        "colab": {
          "base_uri": "https://localhost:8080/"
        },
        "id": "XkUkiKMmWSY7",
        "outputId": "c31d7295-102d-46f5-cd21-6fe705109b17"
      },
      "source": [
        "count = 0\n",
        "phrase = \"hello world\"\n",
        "for iteration in range(5):\n",
        "    count += len(phrase)\n",
        "print(\"Iteration\"+ str(iteration)+\"\"+ \"count is\"+ str(count))"
      ],
      "execution_count": null,
      "outputs": [
        {
          "output_type": "stream",
          "text": [
            "Iteration4count is55\n"
          ],
          "name": "stdout"
        }
      ]
    },
    {
      "cell_type": "code",
      "metadata": {
        "colab": {
          "base_uri": "https://localhost:8080/",
          "height": 207
        },
        "id": "hoZctGzlXOIK",
        "outputId": "2011c1d8-774f-4f25-91a1-6e659bfc7741"
      },
      "source": [
        "count = 0\n",
        "phrase = \"hello world\"\n",
        "for i in range(5):\n",
        "  index = 0\n",
        "  while index < len(phrase):\n",
        "    count += 1\n",
        "    index += 1\n",
        "print (\"Iteration\"+ str(iteration)+\"\"+ \"count is\"+ str(count))"
      ],
      "execution_count": null,
      "outputs": [
        {
          "output_type": "error",
          "ename": "NameError",
          "evalue": "ignored",
          "traceback": [
            "\u001b[0;31m---------------------------------------------------------------------------\u001b[0m",
            "\u001b[0;31mNameError\u001b[0m                                 Traceback (most recent call last)",
            "\u001b[0;32m<ipython-input-52-0a182df66728>\u001b[0m in \u001b[0;36m<module>\u001b[0;34m()\u001b[0m\n\u001b[1;32m      6\u001b[0m     \u001b[0mcount\u001b[0m \u001b[0;34m+=\u001b[0m \u001b[0;36m1\u001b[0m\u001b[0;34m\u001b[0m\u001b[0;34m\u001b[0m\u001b[0m\n\u001b[1;32m      7\u001b[0m     \u001b[0mindex\u001b[0m \u001b[0;34m+=\u001b[0m \u001b[0;36m1\u001b[0m\u001b[0;34m\u001b[0m\u001b[0;34m\u001b[0m\u001b[0m\n\u001b[0;32m----> 8\u001b[0;31m \u001b[0mprint\u001b[0m \u001b[0;34m(\u001b[0m\u001b[0;34m\"Iteration\"\u001b[0m\u001b[0;34m+\u001b[0m \u001b[0mstr\u001b[0m\u001b[0;34m(\u001b[0m\u001b[0miteration\u001b[0m\u001b[0;34m)\u001b[0m\u001b[0;34m+\u001b[0m\u001b[0;34m\"\"\u001b[0m\u001b[0;34m+\u001b[0m \u001b[0;34m\"count is\"\u001b[0m\u001b[0;34m+\u001b[0m \u001b[0mstr\u001b[0m\u001b[0;34m(\u001b[0m\u001b[0mcount\u001b[0m\u001b[0;34m)\u001b[0m\u001b[0;34m)\u001b[0m\u001b[0;34m\u001b[0m\u001b[0;34m\u001b[0m\u001b[0m\n\u001b[0m",
            "\u001b[0;31mNameError\u001b[0m: name 'iteration' is not defined"
          ]
        }
      ]
    },
    {
      "cell_type": "code",
      "metadata": {
        "id": "4abpTIOtY3Tj",
        "colab": {
          "base_uri": "https://localhost:8080/",
          "height": 261
        },
        "outputId": "39fece32-14bc-4904-f129-545ac3361b28"
      },
      "source": [
        "print(\"Enter first\")\n",
        "num1 = input()\n",
        "\n",
        "print(\"enter second\")\n",
        "num2 = input()\n",
        "\n",
        "print (\"sum is\"+ \"  \"+  str (int(num1) + int(num2)))"
      ],
      "execution_count": null,
      "outputs": [
        {
          "output_type": "stream",
          "text": [
            "Enter first\n"
          ],
          "name": "stdout"
        },
        {
          "output_type": "error",
          "ename": "TypeError",
          "evalue": "ignored",
          "traceback": [
            "\u001b[0;31m---------------------------------------------------------------------------\u001b[0m",
            "\u001b[0;31mTypeError\u001b[0m                                 Traceback (most recent call last)",
            "\u001b[0;32m<ipython-input-51-da48a0d02235>\u001b[0m in \u001b[0;36m<module>\u001b[0;34m()\u001b[0m\n\u001b[1;32m      1\u001b[0m \u001b[0mprint\u001b[0m\u001b[0;34m(\u001b[0m\u001b[0;34m\"Enter first\"\u001b[0m\u001b[0;34m)\u001b[0m\u001b[0;34m\u001b[0m\u001b[0;34m\u001b[0m\u001b[0m\n\u001b[0;32m----> 2\u001b[0;31m \u001b[0mnum1\u001b[0m \u001b[0;34m=\u001b[0m \u001b[0minput\u001b[0m\u001b[0;34m(\u001b[0m\u001b[0;34m)\u001b[0m\u001b[0;34m\u001b[0m\u001b[0;34m\u001b[0m\u001b[0m\n\u001b[0m\u001b[1;32m      3\u001b[0m \u001b[0;34m\u001b[0m\u001b[0m\n\u001b[1;32m      4\u001b[0m \u001b[0mprint\u001b[0m\u001b[0;34m(\u001b[0m\u001b[0;34m\"enter second\"\u001b[0m\u001b[0;34m)\u001b[0m\u001b[0;34m\u001b[0m\u001b[0;34m\u001b[0m\u001b[0m\n\u001b[1;32m      5\u001b[0m \u001b[0mnum2\u001b[0m \u001b[0;34m=\u001b[0m \u001b[0minput\u001b[0m\u001b[0;34m(\u001b[0m\u001b[0;34m)\u001b[0m\u001b[0;34m\u001b[0m\u001b[0;34m\u001b[0m\u001b[0m\n",
            "\u001b[0;31mTypeError\u001b[0m: input() missing 1 required positional argument: 'x'"
          ]
        }
      ]
    },
    {
      "cell_type": "code",
      "metadata": {
        "colab": {
          "base_uri": "https://localhost:8080/"
        },
        "id": "jGZ4uYKBLfzM",
        "outputId": "b9f9e2e9-5887-4960-d11a-093b00664cec"
      },
      "source": [
        "x= \"hello world\"\n",
        "\n",
        "print (x [3:8])\n",
        "\n"
      ],
      "execution_count": null,
      "outputs": [
        {
          "output_type": "stream",
          "text": [
            "lo wo\n"
          ],
          "name": "stdout"
        }
      ]
    },
    {
      "cell_type": "code",
      "metadata": {
        "colab": {
          "base_uri": "https://localhost:8080/"
        },
        "id": "1z1nZ9M6Td1r",
        "outputId": "aab27f46-a198-4e9c-9046-260114905920"
      },
      "source": [
        "shopping = [\"a\", \"b\", \"c\", \"d\", \"e\"]\n",
        "shopping.insert(0,\"f\")\n",
        "shopping.sort()\n",
        "\n",
        "\n",
        "print(shopping[0:4])"
      ],
      "execution_count": null,
      "outputs": [
        {
          "output_type": "stream",
          "text": [
            "['a', 'b', 'c', 'd']\n"
          ],
          "name": "stdout"
        }
      ]
    },
    {
      "cell_type": "code",
      "metadata": {
        "colab": {
          "base_uri": "https://localhost:8080/"
        },
        "id": "aWNmGcMG2qO3",
        "outputId": "68deb85e-0219-48ae-ffd9-8b14b8e85058"
      },
      "source": [
        "dic1 = {\"bat\": \"cricket\",\"stick\" : \"hockey\",\"cock\":\"badmin\",\"table\":\"tennis\",\"water\":\"swimming\"}\n",
        "print (\"Enter a word\")\n",
        "word = input(\"\")\n",
        "print (\"The meaning is\",(dic1[word]))\n"
      ],
      "execution_count": null,
      "outputs": [
        {
          "output_type": "stream",
          "text": [
            "Enter a word\n",
            "bat\n",
            "The meaning is cricket\n"
          ],
          "name": "stdout"
        }
      ]
    },
    {
      "cell_type": "code",
      "metadata": {
        "colab": {
          "base_uri": "https://localhost:8080/"
        },
        "id": "GFI9k7fGb1w8",
        "outputId": "7d7433c1-6189-4b12-d4ce-647a4aeb5647"
      },
      "source": [
        "print (\"Enter Age\")\n",
        "x= int(input())\n",
        "\n",
        "if x > 18:\n",
        "  print(\"Drive\")\n",
        "elif x ==18:\n",
        "  print(\"Doubt\")\n",
        "\n",
        "else:\n",
        "   print(\"No\")"
      ],
      "execution_count": null,
      "outputs": [
        {
          "output_type": "stream",
          "text": [
            "Enter Age\n",
            "18\n",
            "Doubt\n"
          ],
          "name": "stdout"
        }
      ]
    },
    {
      "cell_type": "code",
      "metadata": {
        "colab": {
          "base_uri": "https://localhost:8080/"
        },
        "id": "-WhRXAQH-bJu",
        "outputId": "fe3f21d9-fae7-4800-e801-c4d9f7d4df1a"
      },
      "source": [
        "print(\"Enter Operator\")\n",
        "op = input()\n",
        "\n",
        "print(\"Enter First\")\n",
        "num1 = input()\n",
        "\n",
        "print(\"Enter Second\")\n",
        "num2 = input()\n",
        "\n",
        "if num1=='4' and num2=='6' and op=='sum':\n",
        " print(\"100\")\n",
        "elif num1=='7' and num2=='3'and op=='prod':\n",
        "  print(\"54\")\n",
        "\n",
        "elif op =='sum':\n",
        "  print(int(num1)+int(num2))\n",
        "elif op == 'diff':\n",
        "  print(int(num1)-int(num2))\n",
        "elif op == 'prod':\n",
        "  print(int(num1)*int(num2))\n",
        "else:\n",
        "   print(int(num1)/int(num2))\n",
        "\n"
      ],
      "execution_count": null,
      "outputs": [
        {
          "output_type": "stream",
          "text": [
            "Enter Operator\n",
            "sum\n",
            "Enter First\n",
            "33\n",
            "Enter Second\n",
            "44\n",
            "77\n"
          ],
          "name": "stdout"
        }
      ]
    },
    {
      "cell_type": "code",
      "metadata": {
        "colab": {
          "base_uri": "https://localhost:8080/"
        },
        "id": "etwD5XbUdKby",
        "outputId": "e66fa297-a19d-447d-f2dc-49491a6d9db2"
      },
      "source": [
        "list1 = [5,7,'d',89,'h']\n",
        "for item in list1:\n",
        "  if str(item).isnumeric() and item>6:\n",
        "   print (item)\n",
        "  \n",
        "   \n",
        "  \n"
      ],
      "execution_count": null,
      "outputs": [
        {
          "output_type": "stream",
          "text": [
            "7\n",
            "89\n"
          ],
          "name": "stdout"
        }
      ]
    },
    {
      "cell_type": "code",
      "metadata": {
        "colab": {
          "base_uri": "https://localhost:8080/",
          "height": 297
        },
        "id": "6OyUJPOeyxBa",
        "outputId": "39ab210e-f529-4b2c-f1b8-df0616438cfb"
      },
      "source": [
        "while (True):\n",
        "  print (\"Number\")\n",
        "  num1 =int(input())\n",
        "\n",
        "  if num1>100:\n",
        "    print(num1)\n",
        "    break\n",
        "\n",
        "  else:\n",
        "    continue\n"
      ],
      "execution_count": null,
      "outputs": [
        {
          "output_type": "stream",
          "text": [
            "Number\n"
          ],
          "name": "stdout"
        },
        {
          "output_type": "error",
          "ename": "TypeError",
          "evalue": "ignored",
          "traceback": [
            "\u001b[0;31m---------------------------------------------------------------------------\u001b[0m",
            "\u001b[0;31mTypeError\u001b[0m                                 Traceback (most recent call last)",
            "\u001b[0;32m<ipython-input-43-2353f28c70c6>\u001b[0m in \u001b[0;36m<module>\u001b[0;34m()\u001b[0m\n\u001b[1;32m      1\u001b[0m \u001b[0;32mwhile\u001b[0m \u001b[0;34m(\u001b[0m\u001b[0;32mTrue\u001b[0m\u001b[0;34m)\u001b[0m\u001b[0;34m:\u001b[0m\u001b[0;34m\u001b[0m\u001b[0;34m\u001b[0m\u001b[0m\n\u001b[1;32m      2\u001b[0m   \u001b[0mprint\u001b[0m \u001b[0;34m(\u001b[0m\u001b[0;34m\"Number\"\u001b[0m\u001b[0;34m)\u001b[0m\u001b[0;34m\u001b[0m\u001b[0;34m\u001b[0m\u001b[0m\n\u001b[0;32m----> 3\u001b[0;31m   \u001b[0mnum1\u001b[0m \u001b[0;34m=\u001b[0m\u001b[0mint\u001b[0m\u001b[0;34m(\u001b[0m\u001b[0minput\u001b[0m\u001b[0;34m(\u001b[0m\u001b[0;34m)\u001b[0m\u001b[0;34m)\u001b[0m\u001b[0;34m\u001b[0m\u001b[0;34m\u001b[0m\u001b[0m\n\u001b[0m\u001b[1;32m      4\u001b[0m \u001b[0;34m\u001b[0m\u001b[0m\n\u001b[1;32m      5\u001b[0m   \u001b[0;32mif\u001b[0m \u001b[0mnum1\u001b[0m\u001b[0;34m>\u001b[0m\u001b[0;36m100\u001b[0m\u001b[0;34m:\u001b[0m\u001b[0;34m\u001b[0m\u001b[0;34m\u001b[0m\u001b[0m\n",
            "\u001b[0;31mTypeError\u001b[0m: input() missing 1 required positional argument: 'x'"
          ]
        }
      ]
    },
    {
      "cell_type": "code",
      "metadata": {
        "id": "KTH8tcrfI_sZ"
      },
      "source": [
        ""
      ],
      "execution_count": null,
      "outputs": []
    },
    {
      "cell_type": "code",
      "metadata": {
        "colab": {
          "base_uri": "https://localhost:8080/",
          "height": 261
        },
        "id": "Z-Qou4quJBH_",
        "outputId": "fa5628cc-1c2a-4560-9f23-2c60c72e0cf8"
      },
      "source": [
        "i = 0\n",
        "\n",
        "while(i<9):\n",
        "  print(\"Guess number\")\n",
        "  num = int(input())\n",
        "  i = i + 1\n",
        "  \n",
        "  if num == 67:\n",
        "    print(\"YOU WON\")\n",
        "    print(\"Attempts used\" ,(i))\n",
        "    break\n",
        "\n",
        "  elif num < 67:\n",
        "    print(\"GO UP\")\n",
        "    print(\"Attempts used\", (i))\n",
        "    print(\"Attempts remaining\",(9-i))\n",
        "    continue\n",
        "  else:\n",
        "    print(\"GO DOWN\")\n",
        "    print(\"Attempts used\", (i))\n",
        "    print(\"Attempts remaining\",(9-i))\n",
        "    continue\n",
        "\n",
        "print(\"GAME OVER\")\n"
      ],
      "execution_count": null,
      "outputs": [
        {
          "output_type": "stream",
          "text": [
            "Guess number\n"
          ],
          "name": "stdout"
        },
        {
          "output_type": "error",
          "ename": "TypeError",
          "evalue": "ignored",
          "traceback": [
            "\u001b[0;31m---------------------------------------------------------------------------\u001b[0m",
            "\u001b[0;31mTypeError\u001b[0m                                 Traceback (most recent call last)",
            "\u001b[0;32m<ipython-input-49-dcf44323de14>\u001b[0m in \u001b[0;36m<module>\u001b[0;34m()\u001b[0m\n\u001b[1;32m      3\u001b[0m \u001b[0;32mwhile\u001b[0m\u001b[0;34m(\u001b[0m\u001b[0mi\u001b[0m\u001b[0;34m<\u001b[0m\u001b[0;36m9\u001b[0m\u001b[0;34m)\u001b[0m\u001b[0;34m:\u001b[0m\u001b[0;34m\u001b[0m\u001b[0;34m\u001b[0m\u001b[0m\n\u001b[1;32m      4\u001b[0m   \u001b[0mprint\u001b[0m\u001b[0;34m(\u001b[0m\u001b[0;34m\"Guess number\"\u001b[0m\u001b[0;34m)\u001b[0m\u001b[0;34m\u001b[0m\u001b[0;34m\u001b[0m\u001b[0m\n\u001b[0;32m----> 5\u001b[0;31m   \u001b[0mnum\u001b[0m \u001b[0;34m=\u001b[0m \u001b[0mint\u001b[0m\u001b[0;34m(\u001b[0m\u001b[0minput\u001b[0m\u001b[0;34m(\u001b[0m\u001b[0;34m)\u001b[0m\u001b[0;34m)\u001b[0m\u001b[0;34m\u001b[0m\u001b[0;34m\u001b[0m\u001b[0m\n\u001b[0m\u001b[1;32m      6\u001b[0m   \u001b[0mi\u001b[0m \u001b[0;34m=\u001b[0m \u001b[0mi\u001b[0m \u001b[0;34m+\u001b[0m \u001b[0;36m1\u001b[0m\u001b[0;34m\u001b[0m\u001b[0;34m\u001b[0m\u001b[0m\n\u001b[1;32m      7\u001b[0m \u001b[0;34m\u001b[0m\u001b[0m\n",
            "\u001b[0;31mTypeError\u001b[0m: input() missing 1 required positional argument: 'x'"
          ]
        }
      ]
    },
    {
      "cell_type": "markdown",
      "metadata": {
        "id": "4GoGh2IVRIW-"
      },
      "source": [
        ""
      ]
    },
    {
      "cell_type": "code",
      "metadata": {
        "id": "epqo3_9aQNUm",
        "colab": {
          "base_uri": "https://localhost:8080/"
        },
        "outputId": "04713068-e260-48e0-c78c-d6d0317ab138"
      },
      "source": [
        "print(\"Number\")\n",
        "num = int(input())\n",
        "\n",
        "print(\"0 or 1\")\n",
        "num1 = bool(int(input()))\n",
        "\n",
        "print(num1) \n",
        "\n",
        "if num1 == True:\n",
        " i = 1\n",
        " while (i <= num):\n",
        "  print(i * \"*\")\n",
        "  i = i +1\n",
        "\n",
        "\n",
        "else:\n",
        "  i = num\n",
        "  while (i>=0):\n",
        "    print(i * \"*\")\n",
        "    i = i -1\n",
        "\n",
        "\n",
        "\n"
      ],
      "execution_count": null,
      "outputs": [
        {
          "output_type": "stream",
          "text": [
            "Number\n",
            "6\n",
            "0 or 1\n",
            "1\n",
            "True\n",
            "*\n",
            "**\n",
            "***\n",
            "****\n",
            "*****\n",
            "******\n"
          ],
          "name": "stdout"
        }
      ]
    }
  ]
}