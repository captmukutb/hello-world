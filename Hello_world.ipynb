{
  "nbformat": 4,
  "nbformat_minor": 0,
  "metadata": {
    "colab": {
      "name": "Hello_world.ipynb",
      "provenance": [],
      "collapsed_sections": [],
      "authorship_tag": "ABX9TyOibpr0hhG5ZmEEa9rZBPIl",
      "include_colab_link": true
    },
    "kernelspec": {
      "name": "python3",
      "display_name": "Python 3"
    }
  },
  "cells": [
    {
      "cell_type": "markdown",
      "metadata": {
        "id": "view-in-github",
        "colab_type": "text"
      },
      "source": [
        "<a href=\"https://colab.research.google.com/github/captmukutb/hello-world/blob/main/Hello_world.ipynb\" target=\"_parent\"><img src=\"https://colab.research.google.com/assets/colab-badge.svg\" alt=\"Open In Colab\"/></a>"
      ]
    },
    {
      "cell_type": "markdown",
      "metadata": {
        "id": "Y3Sy6nWsX1KA"
      },
      "source": [
        "# Sum of numbers\n",
        "\n",
        "-"
      ]
    },
    {
      "cell_type": "code",
      "metadata": {
        "colab": {
          "base_uri": "https://localhost:8080/"
        },
        "id": "QHr1_K5HTHrT",
        "outputId": "6e46c983-5d43-4b11-ddfd-68ceacfd347e"
      },
      "source": [
        "mysum=0\n",
        "i=0\n",
        "\n",
        "while i <= 4:\n",
        "  mysum += i\n",
        "  i += 1\n",
        "print(mysum)"
      ],
      "execution_count": null,
      "outputs": [
        {
          "output_type": "stream",
          "text": [
            "10\n"
          ],
          "name": "stdout"
        }
      ]
    },
    {
      "cell_type": "code",
      "metadata": {
        "colab": {
          "base_uri": "https://localhost:8080/"
        },
        "id": "Sq8HvISVS5br",
        "outputId": "f347c3d8-145a-4d75-f06d-b8216def5838"
      },
      "source": [
        "mysum=0\n",
        "\n",
        "for i in range(5):\n",
        "  mysum +=i\n",
        "\n",
        "print(mysum) "
      ],
      "execution_count": null,
      "outputs": [
        {
          "output_type": "stream",
          "text": [
            "10\n"
          ],
          "name": "stdout"
        }
      ]
    },
    {
      "cell_type": "markdown",
      "metadata": {
        "id": "bkpogdBwB_Db"
      },
      "source": [
        "# For"
      ]
    },
    {
      "cell_type": "code",
      "metadata": {
        "colab": {
          "base_uri": "https://localhost:8080/"
        },
        "id": "GDMT1Bl7Be3e",
        "outputId": "a5400888-46af-4bd8-ff55-abb33e9af1b4"
      },
      "source": [
        "for i in range(2,11,2):\n",
        "  print(i)\n"
      ],
      "execution_count": null,
      "outputs": [
        {
          "output_type": "stream",
          "text": [
            "2\n",
            "4\n",
            "6\n",
            "8\n",
            "10\n"
          ],
          "name": "stdout"
        }
      ]
    },
    {
      "cell_type": "code",
      "metadata": {
        "colab": {
          "base_uri": "https://localhost:8080/"
        },
        "id": "jYVtVphpCLe8",
        "outputId": "e15f5e24-1557-40cd-985b-551113031dc2"
      },
      "source": [
        "for i in range(10,0,-2):\n",
        "  print(i)"
      ],
      "execution_count": null,
      "outputs": [
        {
          "output_type": "stream",
          "text": [
            "10\n",
            "8\n",
            "6\n",
            "4\n",
            "2\n"
          ],
          "name": "stdout"
        }
      ]
    },
    {
      "cell_type": "markdown",
      "metadata": {
        "id": "Yzp3DCzEDOhL"
      },
      "source": [
        "# While"
      ]
    },
    {
      "cell_type": "code",
      "metadata": {
        "colab": {
          "base_uri": "https://localhost:8080/"
        },
        "id": "A7-C2HlzCgpg",
        "outputId": "08e7aefb-9f12-4237-ce32-1507c60d70d9"
      },
      "source": [
        "i=0\n",
        "while i<10:\n",
        "  i +=2\n",
        "  print(i)"
      ],
      "execution_count": null,
      "outputs": [
        {
          "output_type": "stream",
          "text": [
            "2\n",
            "4\n",
            "6\n",
            "8\n",
            "10\n"
          ],
          "name": "stdout"
        }
      ]
    },
    {
      "cell_type": "code",
      "metadata": {
        "colab": {
          "base_uri": "https://localhost:8080/"
        },
        "id": "5pHi9WxsDU2a",
        "outputId": "533433d4-8740-411e-8e8c-2d7b6a099220"
      },
      "source": [
        "i=12\n",
        "while i>2:\n",
        "  i += -2\n",
        "  print(i)"
      ],
      "execution_count": null,
      "outputs": [
        {
          "output_type": "stream",
          "text": [
            "10\n",
            "8\n",
            "6\n",
            "4\n",
            "2\n"
          ],
          "name": "stdout"
        }
      ]
    },
    {
      "cell_type": "code",
      "metadata": {
        "colab": {
          "base_uri": "https://localhost:8080/"
        },
        "id": "UDvLHbmcgZHI",
        "outputId": "8700f999-0e74-4186-a5bd-8c8b1d2c60e0"
      },
      "source": [
        "iteration = 0\n",
        "count = 0\n",
        "while iteration < 5:\n",
        "  for letter in \"hello world\":\n",
        "    count +=1\n",
        "    \n",
        "\n",
        "  print(\"Itr\"+str(iteration)+\"\"+\"count is\"+ str(count))\n",
        "  iteration +=1"
      ],
      "execution_count": null,
      "outputs": [
        {
          "output_type": "stream",
          "text": [
            "Itr0count is11\n",
            "Itr1count is22\n",
            "Itr2count is33\n",
            "Itr3count is44\n",
            "Itr4count is55\n"
          ],
          "name": "stdout"
        }
      ]
    },
    {
      "cell_type": "code",
      "metadata": {
        "colab": {
          "base_uri": "https://localhost:8080/"
        },
        "id": "WhxYP_Zbiok1",
        "outputId": "2dfd4caf-5b9a-4e84-b75e-ac2bfc257e42"
      },
      "source": [
        "count=0\n",
        "phrase = \"hello world\"\n",
        "for iteration in range(5):\n",
        "  while True:\n",
        "    count += len(phrase)\n",
        "    break \n",
        "print (\"Iteration\"+ str(iteration)+ \"count\"+str(count))\n",
        "\n"
      ],
      "execution_count": null,
      "outputs": [
        {
          "output_type": "stream",
          "text": [
            "Iteration4count55\n"
          ],
          "name": "stdout"
        }
      ]
    },
    {
      "cell_type": "code",
      "metadata": {
        "colab": {
          "base_uri": "https://localhost:8080/"
        },
        "id": "sP-TUoIfYBYl",
        "outputId": "03758f85-843b-4b4a-e9f5-15512b20f8eb"
      },
      "source": [
        "for iteration in range(5):\n",
        "  count = 0\n",
        "  while True:\n",
        "    for letter in \"hello world\":\n",
        "      count += 1\n",
        "    print (\"Itreation\"+ str(iteration)+ \"count is\"+ str(count))\n",
        "    break"
      ],
      "execution_count": null,
      "outputs": [
        {
          "output_type": "stream",
          "text": [
            "Itreation0count is11\n",
            "Itreation1count is11\n",
            "Itreation2count is11\n",
            "Itreation3count is11\n",
            "Itreation4count is11\n"
          ],
          "name": "stdout"
        }
      ]
    },
    {
      "cell_type": "code",
      "metadata": {
        "colab": {
          "base_uri": "https://localhost:8080/"
        },
        "id": "XkUkiKMmWSY7",
        "outputId": "c31d7295-102d-46f5-cd21-6fe705109b17"
      },
      "source": [
        "count = 0\n",
        "phrase = \"hello world\"\n",
        "for iteration in range(5):\n",
        "    count += len(phrase)\n",
        "print(\"Iteration\"+ str(iteration)+\"\"+ \"count is\"+ str(count))"
      ],
      "execution_count": null,
      "outputs": [
        {
          "output_type": "stream",
          "text": [
            "Iteration4count is55\n"
          ],
          "name": "stdout"
        }
      ]
    },
    {
      "cell_type": "code",
      "metadata": {
        "colab": {
          "base_uri": "https://localhost:8080/"
        },
        "id": "hoZctGzlXOIK",
        "outputId": "29efe710-3eb5-4a50-ed79-9f0b5a197809"
      },
      "source": [
        "count = 0\n",
        "phrase = \"hello world\"\n",
        "for i in range(5):\n",
        "  index = 0\n",
        "  while index < len(phrase):\n",
        "    count += 1\n",
        "    index += 1\n",
        "print (\"Iteration\"+ str(iteration)+\"\"+ \"count is\"+ str(count))"
      ],
      "execution_count": null,
      "outputs": [
        {
          "output_type": "stream",
          "text": [
            "Iteration4count is55\n"
          ],
          "name": "stdout"
        }
      ]
    },
    {
      "cell_type": "code",
      "metadata": {
        "id": "4abpTIOtY3Tj",
        "colab": {
          "base_uri": "https://localhost:8080/"
        },
        "outputId": "3652eb03-aff1-437a-cba4-d2e9ca71dd42"
      },
      "source": [
        "print(\"Enter first\")\n",
        "num1 = input()\n",
        "\n",
        "print(\"enter second\")\n",
        "num2 = input()\n",
        "\n",
        "print (\"sum is\"+ \"  \"+  str (int(num1) + int(num2)))"
      ],
      "execution_count": null,
      "outputs": [
        {
          "output_type": "stream",
          "text": [
            "Enter first\n",
            "3\n",
            "enter second\n",
            "6\n",
            "sum is  9\n"
          ],
          "name": "stdout"
        }
      ]
    },
    {
      "cell_type": "code",
      "metadata": {
        "colab": {
          "base_uri": "https://localhost:8080/"
        },
        "id": "jGZ4uYKBLfzM",
        "outputId": "e1183dbd-d1f6-4847-aa4b-54d1b334626f"
      },
      "source": [
        "x= \"hello world\"\n",
        "\n",
        "print (x [-4:])\n",
        "\n"
      ],
      "execution_count": null,
      "outputs": [
        {
          "output_type": "stream",
          "text": [
            "orld\n"
          ],
          "name": "stdout"
        }
      ]
    }
  ]
}