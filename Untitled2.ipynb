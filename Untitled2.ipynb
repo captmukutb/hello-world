{
  "nbformat": 4,
  "nbformat_minor": 0,
  "metadata": {
    "colab": {
      "name": "Untitled2.ipynb",
      "provenance": [],
      "authorship_tag": "ABX9TyPxM9YJu4cUGYB/yuUxW3Rw",
      "include_colab_link": true
    },
    "kernelspec": {
      "name": "python3",
      "display_name": "Python 3"
    }
  },
  "cells": [
    {
      "cell_type": "markdown",
      "metadata": {
        "id": "view-in-github",
        "colab_type": "text"
      },
      "source": [
        "<a href=\"https://colab.research.google.com/github/captmukutb/hello-world/blob/main/Untitled2.ipynb\" target=\"_parent\"><img src=\"https://colab.research.google.com/assets/colab-badge.svg\" alt=\"Open In Colab\"/></a>"
      ]
    },
    {
      "cell_type": "code",
      "metadata": {
        "id": "h-9t0VkEOO4Q",
        "colab": {
          "base_uri": "https://localhost:8080/"
        },
        "outputId": "6f7f9360-c065-42f5-b7db-cb7d1cec46fa"
      },
      "source": [
        "f = open(input(\"Filename : \"),\"a+\")\n",
        "#f = open (\"filename\", \"a+\" )\n",
        "f.write(\"\\n\")\n",
        "def getdate():\n",
        "  import datetime\n",
        "  return datetime.datetime.now()\n",
        "\n",
        "getdate()\n",
        "#f.write(datetime.now)\n",
        "\n",
        "\n",
        "f.write(input())\n",
        "\n",
        "f.close()\n",
        "\n",
        "\n"
      ],
      "execution_count": null,
      "outputs": [
        {
          "output_type": "stream",
          "text": [
            "Filename : Ram_Diet.txt\n",
            "Chana\n"
          ],
          "name": "stdout"
        }
      ]
    },
    {
      "cell_type": "code",
      "metadata": {
        "id": "U_DF2VaQTEgF",
        "colab": {
          "base_uri": "https://localhost:8080/"
        },
        "outputId": "05fdacf6-2c4c-4c3d-cb68-0a2bb2ec9d98"
      },
      "source": [
        "f = open(\"Ram_Diet.txt\")\n",
        "content = f.read()\n",
        "print(content)\n"
      ],
      "execution_count": null,
      "outputs": [
        {
          "output_type": "stream",
          "text": [
            "Ram Diet\n",
            "Chana\n",
            "\n",
            "getdateChana\n",
            "\n",
            "Chana\n"
          ],
          "name": "stdout"
        }
      ]
    },
    {
      "cell_type": "code",
      "metadata": {
        "colab": {
          "base_uri": "https://localhost:8080/"
        },
        "id": "rrrkGJOnkwx4",
        "outputId": "5d976186-90a6-4f75-9005-5d85c8fe8c7f"
      },
      "source": [
        "def num_sum(x,y):\n",
        "  sum = x+y\n",
        "  return sum\n",
        "\n",
        "n = int(input())\n",
        "m = int(input())\n",
        "\"\"\n",
        "#n=6\n",
        "#m=5\n",
        "\n",
        "print(num_sum(n,m))"
      ],
      "execution_count": null,
      "outputs": [
        {
          "output_type": "stream",
          "text": [
            "100\n",
            "540\n",
            "640\n"
          ],
          "name": "stdout"
        }
      ]
    },
    {
      "cell_type": "code",
      "metadata": {
        "colab": {
          "base_uri": "https://localhost:8080/"
        },
        "id": "DoKWZ722sa6M",
        "outputId": "2c03e6c8-cdc6-475f-b7b7-1c508ba67211"
      },
      "source": [
        "def getdate():\n",
        "  import datetime\n",
        "  return datetime.datetime.now()\n",
        "  h = datetime.datetime.now()\n",
        "  print(h)\n",
        "\n",
        "d1=   {\"Ram\":{\"1\":\"Ram_Diet.txt\",\"2\":\"Ram_Exercise.txt\"},\n",
        "     \"Jesus\":{\"1\":\"Jesus_Diet.txt\",\"2\":\"Jesus_Exercise.txt\"},\n",
        "     \"Nanak\":{\"1\":\"Nanak_Diet.txt\",\"2\":\"Nanak_Exercise.txt\"}}\n",
        "print(\"Enter Candidate Name\")\n",
        "s=input()\n",
        "print(\"Enter 1 for Diet Records, Enter 2 for Exercise Records\")\n",
        "y=input()\n",
        "print(\"Showing records for:\" , [s])\n",
        "\n",
        "\n",
        "print(\"Enter 1 to View records, Enter 2 to Amend records\")\n",
        "\n",
        "x = input()\n",
        "m = int(x)\n",
        "def access_file(num):\n",
        "  if num ==1:\n",
        "    f = open(d1[s][y])\n",
        "    print(f.read())\n",
        "  \n",
        "  else:\n",
        "    f = open((d1[s][y]),\"a+\")\n",
        "    f.write(\"\\n\")\n",
        "    f.write(str(getdate()))\n",
        "    f.write(\"\\n\")\n",
        "    f.write(input(\"Enter New Record\"))\n",
        "    print(f.read())\n",
        "\n",
        "access_file(m)\n",
        "\n"
      ],
      "execution_count": null,
      "outputs": [
        {
          "output_type": "stream",
          "text": [
            "Enter Candidate Name\n",
            "Ram\n",
            "Enter 1 for Diet Records, Enter 2 for Exercise Records\n",
            "2\n",
            "Showing records for: ['Ram']\n",
            "Enter 1 to View records, Enter 2 to Amend records\n",
            "1\n",
            "\n",
            "2021-03-12 06:26:05.740355\n",
            "Bench press\n"
          ],
          "name": "stdout"
        }
      ]
    },
    {
      "cell_type": "code",
      "metadata": {
        "colab": {
          "base_uri": "https://localhost:8080/"
        },
        "id": "e2Gx_PH7-gIt",
        "outputId": "4af2f6a3-2b83-4c86-9d82-c051558fbd34"
      },
      "source": [
        "def getdate():\n",
        " import datetime\n",
        " return datetime.datetime.now()\n",
        " x= datetime.datetime.now()\n",
        " print(x)\n",
        "\n",
        "getdate()\n",
        "#print(c)\n"
      ],
      "execution_count": null,
      "outputs": [
        {
          "output_type": "execute_result",
          "data": {
            "text/plain": [
              "datetime.datetime(2021, 3, 11, 16, 0, 19, 730769)"
            ]
          },
          "metadata": {
            "tags": []
          },
          "execution_count": 15
        }
      ]
    }
  ]
}